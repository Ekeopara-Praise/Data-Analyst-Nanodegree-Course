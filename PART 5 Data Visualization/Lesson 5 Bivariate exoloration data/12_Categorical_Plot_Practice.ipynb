{
 "cells": [
  {
   "cell_type": "code",
   "execution_count": null,
   "metadata": {},
   "outputs": [],
   "source": [
    "jupyter nbconvert Part_II_notebook.ipynb --to slides --template output-toggle.tpl\n",
    "--post serve"
   ]
  },
  {
   "cell_type": "markdown",
   "metadata": {},
   "source": [
    ">  1 The highest loan appears to be $35,000\n",
    "\n",
    "\n",
    "> 2. The **Current** loan status recorded the highest, followed by **Completed**.\n",
    "\n",
    "\n",
    "> 3. Occupations of borrowers are majorly Professionals, Computer programmer, Excutive, Administrative assistant, Analyt etc.\n",
    "\n",
    "\n",
    "> 4. It appears that amongst the top 10 borrowers occupations, four occupation namely; `Analyst`, `Attorney`, `Car Dealer`, and `Chemist`, happen to borrow loans of 35,000 dollars.\n",
    "\n",
    "\n",
    "> 7. There appears a positive correlation between the LP customer principal payment and the Investors. This can suggest that as more investors invest in the company, more possible customer principal payments will be made. This is true because more invests will ensure more loans to be available.\n",
    "\n",
    "\n",
    "> 8. With correlation value of 0.018, it appears that irrespective of the number of Terms for borrowing loan, there's little to no impact on the borrower's rate\n",
    "\n",
    "\n",
    "\n",
    "## Key Insights for Presentation"
   ]
  },
  {
   "cell_type": "code",
   "execution_count": null,
   "metadata": {},
   "outputs": [],
   "source": [
    "# prerequisite package imports\n",
    "import numpy as np\n",
    "import pandas as pd\n",
    "import matplotlib.pyplot as plt\n",
    "import seaborn as sb\n",
    "\n",
    "%matplotlib inline\n",
    "\n",
    "from solutions_biv import categorical_solution_1"
   ]
  },
  {
   "cell_type": "markdown",
   "metadata": {},
   "source": [
    "We'll continue to make use of the fuel economy dataset in this workspace."
   ]
  },
  {
   "cell_type": "code",
   "execution_count": null,
   "metadata": {},
   "outputs": [],
   "source": [
    "fuel_econ = pd.read_csv('./data/fuel_econ.csv')\n",
    "fuel_econ.head()"
   ]
  },
  {
   "cell_type": "markdown",
   "metadata": {},
   "source": [
    "###  **TO DO**\n",
    "Use a plot to explore whether or not there are differences in recommended fuel type depending on the vehicle class. Only investigate the difference between the two main fuel types found in the 'fuelType' variable: Regular Gasoline and Premium Gasoline. (The other fuel types represented in the dataset are of much lower frequency compared to the main two, that they'll be more distracting than informative.) \n",
    "\n",
    "\n",
    "**Note**: The dataset as provided does not retain any of the sorting of the 'VClass' variable, so you will also need to copy over any code you used previously to sort the category levels."
   ]
  },
  {
   "cell_type": "code",
   "execution_count": null,
   "metadata": {},
   "outputs": [],
   "source": [
    "# YOUR CODE HERE\n",
    "def categorical_solution_1():\n",
    "    df = fuel_econ.loc[fuel_econ['fuelType'].isin(['Regular Gasoline', 'Premium Gasoline'])]\n",
    "    sb.countplot(data=df, x='VClass', hue='fuelType')\n",
    "    plt.xticks(rotation=25)"
   ]
  },
  {
   "cell_type": "markdown",
   "metadata": {},
   "source": [
    "### Expected Output"
   ]
  },
  {
   "cell_type": "code",
   "execution_count": null,
   "metadata": {},
   "outputs": [],
   "source": [
    "# run this cell to check your work against ours\n",
    "categorical_solution_1()"
   ]
  },
  {
   "cell_type": "code",
   "execution_count": null,
   "metadata": {},
   "outputs": [],
   "source": []
  }
 ],
 "metadata": {
  "kernelspec": {
   "display_name": "Python 3",
   "language": "python",
   "name": "python3"
  },
  "language_info": {
   "codemirror_mode": {
    "name": "ipython",
    "version": 3
   },
   "file_extension": ".py",
   "mimetype": "text/x-python",
   "name": "python",
   "nbconvert_exporter": "python",
   "pygments_lexer": "ipython3",
   "version": "3.7.6"
  }
 },
 "nbformat": 4,
 "nbformat_minor": 2
}
